{
 "cells": [
  {
   "cell_type": "markdown",
   "metadata": {},
   "source": [
    "파일 import"
   ]
  },
  {
   "cell_type": "code",
   "execution_count": 87,
   "metadata": {},
   "outputs": [],
   "source": [
    "import numpy as np\n",
    "import pandas as pd\n",
    "import matplotlib.pyplot as plt\n",
    "\n",
    "\n",
    "DATA_FILE_NAME='test.tsv'\n"
   ]
  },
  {
   "cell_type": "code",
   "execution_count": 88,
   "metadata": {},
   "outputs": [],
   "source": [
    "df = pd.read_csv(DATA_FILE_NAME, delimiter='\\t')"
   ]
  },
  {
   "cell_type": "code",
   "execution_count": 89,
   "metadata": {},
   "outputs": [
    {
     "name": "stdout",
     "output_type": "stream",
     "text": [
      "<bound method NDFrame.tail of                                                        댓글  가성비  청결  맛  분위기  친절\n",
      "0       안국점보단 웨이팅이 덜하긴했는데... 오픈런 안했고 12시쯤 원격줄서기했는데 1시3...    0   0  0    1   1\n",
      "1       런던베이글뮤지엄 도산점~~🥯 월요일 12시쫌 넘어서 도착했는데… 내앞 대기팀 84팀...    0   0  2    0   0\n",
      "2       목요일 11시45분 방문했고.. 포장 대기 101팀이 웨이팅중이었어요. 주위에 다른...    0   0  0    1   1\n",
      "3       월요일에 방문했는데도 웨이팅이 어마어마… 출발하면서 테이블링으로 대기 거는걸 추천합...    0   0  3    0   1\n",
      "4       평일낮이었지만 금요일이라 그런지 대기가 엄청났어요  매장취식으로 3시간 반정도 후 ...    0   1  1    1   0\n",
      "...                                                   ...  ...  .. ..  ...  ..\n",
      "378353                             저렴하고 맛도 좋아요. 원두도 맛납니다.    0   0  0    0   0\n",
      "378354                                       커피 진짜 맛있어용ㅎㅎ    0   0  0    0   0\n",
      "378355  홍대에서는 소문난 커피 맛집 이에요  커피 종류는 아메리카노 라떼 카푸치노 딱이렇게...    0   0  0    0   0\n",
      "378356                                        가성비 갑 라떼맛집!    0   0  0    0   0\n",
      "378357                                      최고의 가성비 라때 맛집    0   0  0    0   0\n",
      "\n",
      "[378358 rows x 6 columns]>\n"
     ]
    }
   ],
   "source": [
    "print(df.tail)"
   ]
  },
  {
   "cell_type": "code",
   "execution_count": 90,
   "metadata": {},
   "outputs": [],
   "source": [
    "effective_len = len(df.loc[df['가성비'] > 0])\n",
    "clean_len = len(df.loc[df['청결'] > 0])\n",
    "tasty_len = len(df.loc[df['맛'] > 0])\n",
    "vibe_len = len(df.loc[df['분위기'] > 0])\n",
    "kind_len = len(df.loc[df['친절'] > 0])"
   ]
  },
  {
   "cell_type": "code",
   "execution_count": 91,
   "metadata": {},
   "outputs": [
    {
     "name": "stdout",
     "output_type": "stream",
     "text": [
      "[18863, 57710, 165503, 97132, 76582]\n"
     ]
    },
    {
     "data": {
      "image/png": "[encoded data removed]",
      "text/plain": [
       "<Figure size 640x480 with 1 Axes>"
      ]
     },
     "metadata": {},
     "output_type": "display_data"
    }
   ],
   "source": [
    "x = np.arange(5)\n",
    "LABEL_COLUMNS = ['effective', 'clean', 'tasty', 'vibe', 'kind']\n",
    "values = [effective_len, clean_len, tasty_len, vibe_len, kind_len]\n",
    "\n",
    "\n",
    "plt.bar(x, values)\n",
    "plt.xticks(x, LABEL_COLUMNS)\n",
    "\n",
    "print(values)\n",
    "plt.show()\n",
    "# 데이터가 굉장히 불균형 보강 작업이 필요한거 같음"
   ]
  },
  {
   "cell_type": "code",
   "execution_count": 92,
   "metadata": {},
   "outputs": [],
   "source": [
    "import random\n",
    "import pickle\n",
    "import re\n",
    "\n",
    "wordnet = {}\n",
    "with open(\"wordnet.pickle\", \"rb\") as f:\n",
    "\twordnet = pickle.load(f)\n",
    "\n",
    "\n",
    "# 한글만 남기고 나머지는 삭제\n",
    "def get_only_hangul(line):\n",
    "\tparseText= re.compile('/ ^[ㄱ-ㅎㅏ-ㅣ가-힣]*$/').sub('',line)\n",
    "\n",
    "\treturn parseText\n",
    "\n",
    "\n",
    "\n",
    "########################################################################\n",
    "# Synonym replacement\n",
    "# Replace n words in the sentence with synonyms from wordnet\n",
    "########################################################################\n",
    "def synonym_replacement(words, n):\n",
    "\tnew_words = words.copy()\n",
    "\trandom_word_list = list(set([word for word in words]))\n",
    "\trandom.shuffle(random_word_list)\n",
    "\tnum_replaced = 0\n",
    "\tfor random_word in random_word_list:\n",
    "\t\tsynonyms = get_synonyms(random_word)\n",
    "\t\tif len(synonyms) >= 1:\n",
    "\t\t\tsynonym = random.choice(list(synonyms))\n",
    "\t\t\tnew_words = [synonym if word == random_word else word for word in new_words]\n",
    "\t\t\tnum_replaced += 1\n",
    "\t\tif num_replaced >= n:\n",
    "\t\t\tbreak\n",
    "\n",
    "\tif len(new_words) != 0:\n",
    "\t\tsentence = ' '.join(new_words)\n",
    "\t\tnew_words = sentence.split(\" \")\n",
    "\n",
    "\telse:\n",
    "\t\tnew_words = \"\"\n",
    "\n",
    "\treturn new_words\n",
    "\n",
    "\n",
    "def get_synonyms(word):\n",
    "\tsynomyms = []\n",
    "\n",
    "\ttry:\n",
    "\t\tfor syn in wordnet[word]:\n",
    "\t\t\tfor s in syn:\n",
    "\t\t\t\tsynomyms.append(s)\n",
    "\texcept:\n",
    "\t\tpass\n",
    "\n",
    "\treturn synomyms\n",
    "\n",
    "########################################################################\n",
    "# Random deletion\n",
    "# Randomly delete words from the sentence with probability p\n",
    "########################################################################\n",
    "def random_deletion(words, p):\n",
    "\tif len(words) == 1:\n",
    "\t\treturn words\n",
    "\n",
    "\tnew_words = []\n",
    "\tfor word in words:\n",
    "\t\tr = random.uniform(0, 1)\n",
    "\t\tif r > p:\n",
    "\t\t\tnew_words.append(word)\n",
    "\n",
    "\tif len(new_words) == 0:\n",
    "\t\trand_int = random.randint(0, len(words)-1)\n",
    "\t\treturn [words[rand_int]]\n",
    "\n",
    "\treturn new_words\n",
    "\n",
    "########################################################################\n",
    "# Random swap\n",
    "# Randomly swap two words in the sentence n times\n",
    "########################################################################\n",
    "def random_swap(words, n):\n",
    "\tnew_words = words.copy()\n",
    "\tfor _ in range(n):\n",
    "\t\tnew_words = swap_word(new_words)\n",
    "\n",
    "\treturn new_words\n",
    "\n",
    "def swap_word(new_words):\n",
    "\trandom_idx_1 = random.randint(0, len(new_words)-1)\n",
    "\trandom_idx_2 = random_idx_1\n",
    "\tcounter = 0\n",
    "\n",
    "\twhile random_idx_2 == random_idx_1:\n",
    "\t\trandom_idx_2 = random.randint(0, len(new_words)-1)\n",
    "\t\tcounter += 1\n",
    "\t\tif counter > 3:\n",
    "\t\t\treturn new_words\n",
    "\n",
    "\tnew_words[random_idx_1], new_words[random_idx_2] = new_words[random_idx_2], new_words[random_idx_1]\n",
    "\treturn new_words\n",
    "\n",
    "########################################################################\n",
    "# Random insertion\n",
    "# Randomly insert n words into the sentence\n",
    "########################################################################\n",
    "def random_insertion(words, n):\n",
    "\tnew_words = words.copy()\n",
    "\tfor _ in range(n):\n",
    "\t\tadd_word(new_words)\n",
    "\t\n",
    "\treturn new_words\n",
    "\n",
    "\n",
    "def add_word(new_words):\n",
    "\tsynonyms = []\n",
    "\tcounter = 0\n",
    "\twhile len(synonyms) < 1:\n",
    "\t\tif len(new_words) >= 1:\n",
    "\t\t\trandom_word = new_words[random.randint(0, len(new_words)-1)]\n",
    "\t\t\tsynonyms = get_synonyms(random_word)\n",
    "\t\t\tcounter += 1\n",
    "\t\telse:\n",
    "\t\t\trandom_word = \"\"\n",
    "\n",
    "\t\tif counter >= 10:\n",
    "\t\t\treturn\n",
    "\t\t\n",
    "\trandom_synonym = synonyms[0]\n",
    "\trandom_idx = random.randint(0, len(new_words)-1)\n",
    "\tnew_words.insert(random_idx, random_synonym)\n",
    "\n",
    "\n",
    "\n",
    "def EDA(sentence, alpha_sr=0.1, alpha_ri=0.1, alpha_rs=0.1, p_rd=0.1, num_aug=9):\n",
    "\t#sentence = get_only_hangul(sentence)\n",
    "\twords = sentence.split(' ')\n",
    "\twords = [word for word in words if word is not \"\"]\n",
    "\tnum_words = len(words)\n",
    "\n",
    "\taugmented_sentences = []\n",
    "\tnum_new_per_technique = int(num_aug/4) + 1\n",
    "\n",
    "\tn_sr = max(1, int(alpha_sr*num_words))\n",
    "\tn_ri = max(1, int(alpha_ri*num_words))\n",
    "\tn_rs = max(1, int(alpha_rs*num_words))\n",
    "\n",
    "\t# sr\n",
    "#\tfor _ in range(num_new_per_technique):\n",
    "#\t\ta_words = synonym_replacement(words, n_sr)\n",
    "#\t\taugmented_sentences.append(' '.join(a_words))\n",
    "\n",
    "\t# ri\n",
    "\t#for _ in range(num_new_per_technique):\n",
    "#\t\ta_words = random_insertion(words, n_ri)\n",
    "#\t\taugmented_sentences.append(' '.join(a_words))\n",
    "\n",
    "\t# rs\n",
    "\tfor _ in range(num_new_per_technique):\n",
    "\t\ta_words = random_swap(words, n_rs)\n",
    "\t\taugmented_sentences.append(\" \".join(a_words))\n",
    "\n",
    "\t# rd\n",
    "\tfor _ in range(num_new_per_technique):\n",
    "\t\ta_words = random_deletion(words, p_rd)\n",
    "\t\taugmented_sentences.append(\" \".join(a_words))\n",
    "\n",
    "\taugmented_sentences = [get_only_hangul(sentence) for sentence in augmented_sentences]\n",
    "\trandom.shuffle(augmented_sentences)\n",
    "\n",
    "\tif num_aug >= 1:\n",
    "\t\taugmented_sentences = augmented_sentences[:num_aug]\n",
    "\telse:\n",
    "\t\tkeep_prob = num_aug / len(augmented_sentences)\n",
    "\t\taugmented_sentences = [s for s in augmented_sentences if random.uniform(0, 1) < keep_prob]\n",
    "\n",
    "\taugmented_sentences.append(sentence)\n",
    "\n",
    "\treturn augmented_sentences\n"
   ]
  },
  {
   "cell_type": "code",
   "execution_count": 93,
   "metadata": {},
   "outputs": [],
   "source": [
    "filterd_df = df[df['맛'] == 0]"
   ]
  },
  {
   "cell_type": "code",
   "execution_count": 94,
   "metadata": {},
   "outputs": [
    {
     "name": "stderr",
     "output_type": "stream",
     "text": [
      "212855it [00:01, 172491.87it/s]\n"
     ]
    }
   ],
   "source": [
    "#print(df.tail)\n",
    "\n",
    "from tqdm import tqdm\n",
    "\n",
    "# list 선언하고 마지막에 dataframe 으로 합치기?\n",
    "\n",
    "comment_list = []\n",
    "effective_list = []\n",
    "clean_list = []\n",
    "tasty_list = []\n",
    "vibe_list = []\n",
    "kind_list = []\n",
    "\n",
    "for row in tqdm(filterd_df.itertuples()):\n",
    "    #print(sentence[1]) sentence[1]이 원소에 접근 가능하게 해준다.\n",
    "    #배열을 뽑고 맛에 해당하는 열이 안나오고 다른게 나오면 복사한다.\n",
    "    #print(row) # index\n",
    "    #print(row[1])#댓글\n",
    "    #print(row[2])#가성비\n",
    "    #print(row[3])#청결\n",
    "    #print(row[4])#맛\n",
    "    #print(row[5])#분위기\n",
    "    #print(row[6])#친절\n",
    "    \n",
    "    if (row[2] or row[3] or row[6]) and not row[4]:\n",
    "        sentence_list = EDA(row[1])\n",
    "        for sentence in sentence_list:\n",
    "            if sentence != row[1]:\n",
    "                comment_list.append(sentence)\n",
    "                effective_list.append(row[2])\n",
    "                clean_list.append(row[3])\n",
    "                tasty_list.append(row[4])\n",
    "                vibe_list.append(row[5])\n",
    "                kind_list.append(row[6])\n",
    "    \n",
    "\n",
    "\n"
   ]
  },
  {
   "cell_type": "code",
   "execution_count": 95,
   "metadata": {},
   "outputs": [],
   "source": [
    "#columns=['댓글','가성비','청결','맛','분위기','친절']\n",
    "new_df = pd.DataFrame({\n",
    "                        \"댓글\" : comment_list, \n",
    "                        \"가성비\" : effective_list, \n",
    "                        \"청결\" : clean_list, \n",
    "                        \"맛\" : tasty_list, \n",
    "                        \"분위기\" : vibe_list, \n",
    "                        \"친절\" : kind_list \n",
    "                    })"
   ]
  },
  {
   "cell_type": "code",
   "execution_count": 96,
   "metadata": {},
   "outputs": [],
   "source": [
    "df = pd.concat([df, new_df])"
   ]
  },
  {
   "cell_type": "code",
   "execution_count": 97,
   "metadata": {},
   "outputs": [
    {
     "name": "stdout",
     "output_type": "stream",
     "text": [
      "<bound method NDFrame.tail of                                                        댓글  가성비  청결  맛  분위기  친절\n",
      "0       안국점보단 웨이팅이 덜하긴했는데... 오픈런 안했고 12시쯤 원격줄서기했는데 1시3...    0   0  0    1   1\n",
      "1       런던베이글뮤지엄 도산점~~🥯 월요일 12시쫌 넘어서 도착했는데… 내앞 대기팀 84팀...    0   0  2    0   0\n",
      "2       목요일 11시45분 방문했고.. 포장 대기 101팀이 웨이팅중이었어요. 주위에 다른...    0   0  0    1   1\n",
      "3       월요일에 방문했는데도 웨이팅이 어마어마… 출발하면서 테이블링으로 대기 거는걸 추천합...    0   0  3    0   1\n",
      "4       평일낮이었지만 금요일이라 그런지 대기가 엄청났어요  매장취식으로 3시간 반정도 후 ...    0   1  1    1   0\n",
      "...                                                   ...  ...  .. ..  ...  ..\n",
      "140048                                             👍🏻 좋아요    1   1  0    1   0\n",
      "140049                                             👍🏻 좋아요    1   1  0    1   0\n",
      "140050                                           좋아요! 진해서    1   0  0    0   0\n",
      "140051                                           좋아요! 진해서    1   0  0    0   0\n",
      "140052                                           좋아요! 진해서    1   0  0    0   0\n",
      "\n",
      "[518411 rows x 6 columns]>\n"
     ]
    }
   ],
   "source": [
    "print(df.tail)"
   ]
  },
  {
   "cell_type": "code",
   "execution_count": 98,
   "metadata": {},
   "outputs": [],
   "source": [
    "effective_len = len(df.loc[df['가성비'] > 0])\n",
    "clean_len = len(df.loc[df['청결'] > 0])\n",
    "tasty_len = len(df.loc[df['맛'] > 0])\n",
    "vibe_len = len(df.loc[df['분위기'] > 0])\n",
    "kind_len = len(df.loc[df['친절'] > 0])"
   ]
  },
  {
   "cell_type": "code",
   "execution_count": 99,
   "metadata": {},
   "outputs": [
    {
     "name": "stdout",
     "output_type": "stream",
     "text": [
      "[42025, 132041, 165503, 159266, 166855]\n"
     ]
    },
    {
     "data": {
      "image/png": "[encoded data removed]",
      "text/plain": [
       "<Figure size 640x480 with 1 Axes>"
      ]
     },
     "metadata": {},
     "output_type": "display_data"
    }
   ],
   "source": [
    "x = np.arange(5)\n",
    "LABEL_COLUMNS = ['effective', 'clean', 'tasty', 'vibe', 'kind']\n",
    "values = [effective_len, clean_len, tasty_len, vibe_len, kind_len]\n",
    "\n",
    "\n",
    "plt.bar(x, values)\n",
    "plt.xticks(x, LABEL_COLUMNS)\n",
    "\n",
    "print(values)\n",
    "plt.show()\n",
    "# 데이터가 굉장히 불균형 보강 작업이 필요한거 같음"
   ]
  },
  {
   "cell_type": "code",
   "execution_count": 100,
   "metadata": {},
   "outputs": [],
   "source": [
    "# 추가하고 row 섞자\n",
    "df = df.sample(frac=1)"
   ]
  },
  {
   "cell_type": "code",
   "execution_count": 101,
   "metadata": {},
   "outputs": [
    {
     "name": "stdout",
     "output_type": "stream",
     "text": [
      "<bound method NDFrame.tail of                                                        댓글  가성비  청결  맛  분위기  친절\n",
      "88250                                쌀베이글 쫀떡쫀떡 왕 맛있어요 꺄악ㅜ    0   0  1    0   0\n",
      "232681                                          밀크티가 맛있어요    0   0  1    0   0\n",
      "331984             집 근처라 자주 오는데, 비건 글루텐프리 르뱅쿠키 너무 맛있어요🤩🤩     0   1  2    1   1\n",
      "91553                                       커피 맛있어서 구매했어요    0   0  0    1   1\n",
      "316152                                     음료종류가 많아서 좋았어요    0   0  0    0   0\n",
      "...                                                   ...  ...  .. ..  ...  ..\n",
      "89283   너무 맛있게 딱 가게 내부도 직원분들도 정말 이쁘고 푸릇푸릇해서 친절하셔서 즐겁게 ...    0   1  0    1   1\n",
      "270923                                               좋아요     0   0  1    2   0\n",
      "193320                                친절하고 공간도 커피도 좋았어요❤️    0   0  0    0   0\n",
      "53521                         오리지널로 먹었는데 짜지 않고 맛있어요😆 야들야들    1   0  0    0   1\n",
      "271206  다시마끼 산도 소스가 독특하고 타마고도 간이 잘 되어있어서 너무 맛있습니다! 몽실타...    1   0  4    0   0\n",
      "\n",
      "[518411 rows x 6 columns]>\n"
     ]
    }
   ],
   "source": [
    "print(df.tail)"
   ]
  },
  {
   "cell_type": "code",
   "execution_count": 102,
   "metadata": {},
   "outputs": [],
   "source": [
    "df.to_csv('enhanced.tsv', index=False, header=True, sep=\"\\t\")"
   ]
  },
  {
   "cell_type": "code",
   "execution_count": null,
   "metadata": {},
   "outputs": [],
   "source": []
  },
  {
   "cell_type": "code",
   "execution_count": null,
   "metadata": {},
   "outputs": [],
   "source": []
  }
 ],
 "metadata": {
  "kernelspec": {
   "display_name": "Python 3.7.9 64-bit (microsoft store)",
   "language": "python",
   "name": "python3"
  },
  "language_info": {
   "codemirror_mode": {
    "name": "ipython",
    "version": 3
   },
   "file_extension": ".py",
   "mimetype": "text/x-python",
   "name": "python",
   "nbconvert_exporter": "python",
   "pygments_lexer": "ipython3",
   "version": "3.7.9"
  },
  "orig_nbformat": 4,
  "vscode": {
   "interpreter": {
    "hash": "ba902cdd07d50c871105ce56545d419b4d779dfca31abd400d3cc968703e0b8c"
   }
  }
 },
 "nbformat": 4,
 "nbformat_minor": 2
}
