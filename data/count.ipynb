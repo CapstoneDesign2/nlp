{
 "cells": [
  {
   "cell_type": "markdown",
   "metadata": {},
   "source": [
    "파일 import"
   ]
  },
  {
   "cell_type": "code",
   "execution_count": 66,
   "metadata": {},
   "outputs": [],
   "source": [
    "import numpy as np\n",
    "import pandas as pd\n",
    "import matplotlib.pyplot as plt\n",
    "\n",
    "\n",
    "DATA_FILE_NAME='train.tsv'\n"
   ]
  },
  {
   "cell_type": "code",
   "execution_count": 67,
   "metadata": {},
   "outputs": [],
   "source": [
    "df = pd.read_csv(DATA_FILE_NAME, delimiter='\\t')"
   ]
  },
  {
   "cell_type": "code",
   "execution_count": 68,
   "metadata": {},
   "outputs": [],
   "source": [
    "effective_len = len(df.loc[df['가성비'] > 0])\n",
    "clean_len = len(df.loc[df['청결'] > 0])\n",
    "tasty_len = len(df.loc[df['맛'] > 0])\n",
    "vibe_len = len(df.loc[df['분위기'] > 0])\n",
    "kind_len = len(df.loc[df['친절'] > 0])"
   ]
  },
  {
   "cell_type": "code",
   "execution_count": 69,
   "metadata": {},
   "outputs": [
    {
     "name": "stdout",
     "output_type": "stream",
     "text": [
      "[79, 92, 457, 251, 182]\n"
     ]
    },
    {
     "data": {
      "image/png": "[encoded data removed]",
      "text/plain": [
       "<Figure size 640x480 with 1 Axes>"
      ]
     },
     "metadata": {},
     "output_type": "display_data"
    }
   ],
   "source": [
    "x = np.arange(5)\n",
    "LABEL_COLUMNS = ['effective', 'clean', 'tasty', 'vibe', 'kind']\n",
    "values = [effective_len, clean_len, tasty_len, vibe_len, kind_len]\n",
    "\n",
    "\n",
    "plt.bar(x, values)\n",
    "plt.xticks(x, LABEL_COLUMNS)\n",
    "\n",
    "print(values)\n",
    "plt.show()\n",
    "# 데이터가 굉장히 불균형 보강 작업이 필요한거 같음"
   ]
  },
  {
   "cell_type": "code",
   "execution_count": 70,
   "metadata": {},
   "outputs": [],
   "source": [
    "import random\n",
    "import pickle\n",
    "import re\n",
    "\n",
    "wordnet = {}\n",
    "with open(\"wordnet.pickle\", \"rb\") as f:\n",
    "\twordnet = pickle.load(f)\n",
    "\n",
    "\n",
    "# 한글만 남기고 나머지는 삭제\n",
    "def get_only_hangul(line):\n",
    "\tparseText= re.compile('/ ^[ㄱ-ㅎㅏ-ㅣ가-힣]*$/').sub('',line)\n",
    "\n",
    "\treturn parseText\n",
    "\n",
    "\n",
    "\n",
    "########################################################################\n",
    "# Synonym replacement\n",
    "# Replace n words in the sentence with synonyms from wordnet\n",
    "########################################################################\n",
    "def synonym_replacement(words, n):\n",
    "\tnew_words = words.copy()\n",
    "\trandom_word_list = list(set([word for word in words]))\n",
    "\trandom.shuffle(random_word_list)\n",
    "\tnum_replaced = 0\n",
    "\tfor random_word in random_word_list:\n",
    "\t\tsynonyms = get_synonyms(random_word)\n",
    "\t\tif len(synonyms) >= 1:\n",
    "\t\t\tsynonym = random.choice(list(synonyms))\n",
    "\t\t\tnew_words = [synonym if word == random_word else word for word in new_words]\n",
    "\t\t\tnum_replaced += 1\n",
    "\t\tif num_replaced >= n:\n",
    "\t\t\tbreak\n",
    "\n",
    "\tif len(new_words) != 0:\n",
    "\t\tsentence = ' '.join(new_words)\n",
    "\t\tnew_words = sentence.split(\" \")\n",
    "\n",
    "\telse:\n",
    "\t\tnew_words = \"\"\n",
    "\n",
    "\treturn new_words\n",
    "\n",
    "\n",
    "def get_synonyms(word):\n",
    "\tsynomyms = []\n",
    "\n",
    "\ttry:\n",
    "\t\tfor syn in wordnet[word]:\n",
    "\t\t\tfor s in syn:\n",
    "\t\t\t\tsynomyms.append(s)\n",
    "\texcept:\n",
    "\t\tpass\n",
    "\n",
    "\treturn synomyms\n",
    "\n",
    "########################################################################\n",
    "# Random deletion\n",
    "# Randomly delete words from the sentence with probability p\n",
    "########################################################################\n",
    "def random_deletion(words, p):\n",
    "\tif len(words) == 1:\n",
    "\t\treturn words\n",
    "\n",
    "\tnew_words = []\n",
    "\tfor word in words:\n",
    "\t\tr = random.uniform(0, 1)\n",
    "\t\tif r > p:\n",
    "\t\t\tnew_words.append(word)\n",
    "\n",
    "\tif len(new_words) == 0:\n",
    "\t\trand_int = random.randint(0, len(words)-1)\n",
    "\t\treturn [words[rand_int]]\n",
    "\n",
    "\treturn new_words\n",
    "\n",
    "########################################################################\n",
    "# Random swap\n",
    "# Randomly swap two words in the sentence n times\n",
    "########################################################################\n",
    "def random_swap(words, n):\n",
    "\tnew_words = words.copy()\n",
    "\tfor _ in range(n):\n",
    "\t\tnew_words = swap_word(new_words)\n",
    "\n",
    "\treturn new_words\n",
    "\n",
    "def swap_word(new_words):\n",
    "\trandom_idx_1 = random.randint(0, len(new_words)-1)\n",
    "\trandom_idx_2 = random_idx_1\n",
    "\tcounter = 0\n",
    "\n",
    "\twhile random_idx_2 == random_idx_1:\n",
    "\t\trandom_idx_2 = random.randint(0, len(new_words)-1)\n",
    "\t\tcounter += 1\n",
    "\t\tif counter > 3:\n",
    "\t\t\treturn new_words\n",
    "\n",
    "\tnew_words[random_idx_1], new_words[random_idx_2] = new_words[random_idx_2], new_words[random_idx_1]\n",
    "\treturn new_words\n",
    "\n",
    "########################################################################\n",
    "# Random insertion\n",
    "# Randomly insert n words into the sentence\n",
    "########################################################################\n",
    "def random_insertion(words, n):\n",
    "\tnew_words = words.copy()\n",
    "\tfor _ in range(n):\n",
    "\t\tadd_word(new_words)\n",
    "\t\n",
    "\treturn new_words\n",
    "\n",
    "\n",
    "def add_word(new_words):\n",
    "\tsynonyms = []\n",
    "\tcounter = 0\n",
    "\twhile len(synonyms) < 1:\n",
    "\t\tif len(new_words) >= 1:\n",
    "\t\t\trandom_word = new_words[random.randint(0, len(new_words)-1)]\n",
    "\t\t\tsynonyms = get_synonyms(random_word)\n",
    "\t\t\tcounter += 1\n",
    "\t\telse:\n",
    "\t\t\trandom_word = \"\"\n",
    "\n",
    "\t\tif counter >= 10:\n",
    "\t\t\treturn\n",
    "\t\t\n",
    "\trandom_synonym = synonyms[0]\n",
    "\trandom_idx = random.randint(0, len(new_words)-1)\n",
    "\tnew_words.insert(random_idx, random_synonym)\n",
    "\n",
    "\n",
    "\n",
    "def EDA(sentence, alpha_sr=0.1, alpha_ri=0.1, alpha_rs=0.1, p_rd=0.1, num_aug=9):\n",
    "\tsentence = get_only_hangul(sentence)\n",
    "\twords = sentence.split(' ')\n",
    "\twords = [word for word in words if word is not \"\"]\n",
    "\tnum_words = len(words)\n",
    "\n",
    "\taugmented_sentences = []\n",
    "\tnum_new_per_technique = int(num_aug/4) + 1\n",
    "\n",
    "\tn_sr = max(1, int(alpha_sr*num_words))\n",
    "\tn_ri = max(1, int(alpha_ri*num_words))\n",
    "\tn_rs = max(1, int(alpha_rs*num_words))\n",
    "\n",
    "\t# sr\n",
    "\tfor _ in range(num_new_per_technique):\n",
    "\t\ta_words = synonym_replacement(words, n_sr)\n",
    "\t\taugmented_sentences.append(' '.join(a_words))\n",
    "\n",
    "\t# ri\n",
    "\tfor _ in range(num_new_per_technique):\n",
    "\t\ta_words = random_insertion(words, n_ri)\n",
    "\t\taugmented_sentences.append(' '.join(a_words))\n",
    "\n",
    "\t# rs\n",
    "\tfor _ in range(num_new_per_technique):\n",
    "\t\ta_words = random_swap(words, n_rs)\n",
    "\t\taugmented_sentences.append(\" \".join(a_words))\n",
    "\n",
    "\t# rd\n",
    "\tfor _ in range(num_new_per_technique):\n",
    "\t\ta_words = random_deletion(words, p_rd)\n",
    "\t\taugmented_sentences.append(\" \".join(a_words))\n",
    "\n",
    "\taugmented_sentences = [get_only_hangul(sentence) for sentence in augmented_sentences]\n",
    "\trandom.shuffle(augmented_sentences)\n",
    "\n",
    "\tif num_aug >= 1:\n",
    "\t\taugmented_sentences = augmented_sentences[:num_aug]\n",
    "\telse:\n",
    "\t\tkeep_prob = num_aug / len(augmented_sentences)\n",
    "\t\taugmented_sentences = [s for s in augmented_sentences if random.uniform(0, 1) < keep_prob]\n",
    "\n",
    "\taugmented_sentences.append(sentence)\n",
    "\n",
    "\treturn augmented_sentences\n"
   ]
  },
  {
   "cell_type": "code",
   "execution_count": 71,
   "metadata": {},
   "outputs": [],
   "source": [
    "filterd_df = df[df['맛'] == 0]"
   ]
  },
  {
   "cell_type": "code",
   "execution_count": 72,
   "metadata": {},
   "outputs": [],
   "source": [
    "s = \"이건 아닌거 같아요\"\n",
    "\n",
    "add_df = pd.DataFrame(columns=['댓글','가성비','청결','맛','분위기','친절'])\n"
   ]
  },
  {
   "cell_type": "code",
   "execution_count": 75,
   "metadata": {},
   "outputs": [
    {
     "name": "stdout",
     "output_type": "stream",
     "text": [
      "<bound method NDFrame.tail of                                                     댓글  가성비  청결  맛  분위기  친절\n",
      "0    요즘 마들젠에 카버샌 먹는 낙으로 살고 있는 1인 입니다:) 몇 달 전부터 후기로만...    0   1  1    0   0\n",
      "1    3주째 부지런히 움직히 구매했습니다!  어떻게 이렇게 맛있죠? 제가 딱 좋아하는 맛...    0   0  1    0   0\n",
      "2    반년전부터 마들젠먹어볼까?고민하다가 드디어 마음먹고 포장했어요. 8시반에 갔더니 대...    0   1  1    0   1\n",
      "3    신메뉴 꼭 먹고싶어 바로 갔습니다 !!  집가서 바로 입 속으로 넣었습니다. 고소함...    0   1  1    1   1\n",
      "4    우연한 계기로 알게된 마들젠! 어떤맛일까 너무 궁금해서 스토어팜 열기를 기다리며 알...    0   1  1    0   1\n",
      "..                                                 ...  ...  .. ..  ...  ..\n",
      "804  대기표를 살수있고 웨이팅하기에 무리가 없어요!! 시간 맞춰가니까 금방 줘서 좋아요~...    0   1  0    0   0\n",
      "805  대기표를 줘서 웨이팅하기에 무리가 없어요!! 성 맞춰가니까 금방 살수있고 좋아요~~...    0   1  0    0   0\n",
      "806  대기표를 줘서 웨이팅하기에 무리가 없어요!! 시간 맞춰가니까 금방 살수있고 좋아요~...    0   1  0    0   0\n",
      "807  대기표를 줘서 웨이팅하기에 무리가 없어요!! 시간 맞춰가니까 금방 살수있고 좋아요~...    0   1  0    0   0\n",
      "808  대기표를 줘서 웨이팅하기에 무리가 없어요!! 시간 맞춰가니까 금방 살수있고 좋아요~...    0   1  0    0   0\n",
      "\n",
      "[809 rows x 6 columns]>\n",
      "10\n"
     ]
    }
   ],
   "source": [
    "print(df.tail)\n",
    "for row in filterd_df.iterrows():\n",
    "    #print(sentence[1]) sentence[1]이 원소에 접근 가능하게 해준다.\n",
    "    #배열을 뽑고 맛에 해당하는 열이 안나오고 다른게 나오면 복사한다.\n",
    "    arr = [ row[1]['가성비'],\n",
    "            row[1]['청결'], \n",
    "            row[1]['맛'], \n",
    "            row[1]['분위기'], \n",
    "            row[1]['친절']\n",
    "        ]\n",
    "    if True:\n",
    "        sentence_list = EDA(row[1]['댓글'])\n",
    "        print(len(sentence_list))\n",
    "        for sentence in sentence_list:\n",
    "            df.loc[len(df.index)] = [\n",
    "                sentence,\n",
    "                arr[0],\n",
    "                arr[1],\n",
    "                arr[2],\n",
    "                arr[3],\n",
    "                arr[4]\n",
    "            ]\n",
    "    break\n",
    "\n",
    "\n"
   ]
  },
  {
   "cell_type": "code",
   "execution_count": 76,
   "metadata": {},
   "outputs": [
    {
     "name": "stdout",
     "output_type": "stream",
     "text": [
      "<bound method NDFrame.tail of                                                     댓글  가성비  청결  맛  분위기  친절\n",
      "0    요즘 마들젠에 카버샌 먹는 낙으로 살고 있는 1인 입니다:) 몇 달 전부터 후기로만...    0   1  1    0   0\n",
      "1    3주째 부지런히 움직히 구매했습니다!  어떻게 이렇게 맛있죠? 제가 딱 좋아하는 맛...    0   0  1    0   0\n",
      "2    반년전부터 마들젠먹어볼까?고민하다가 드디어 마음먹고 포장했어요. 8시반에 갔더니 대...    0   1  1    0   1\n",
      "3    신메뉴 꼭 먹고싶어 바로 갔습니다 !!  집가서 바로 입 속으로 넣었습니다. 고소함...    0   1  1    1   1\n",
      "4    우연한 계기로 알게된 마들젠! 어떤맛일까 너무 궁금해서 스토어팜 열기를 기다리며 알...    0   1  1    0   1\n",
      "..                                                 ...  ...  .. ..  ...  ..\n",
      "814  대기표를 줘서 웨이팅하기에 무리가 없어요!! 시 맞춰가니까 금방 살수있고 좋아요~~...    0   1  0    0   0\n",
      "815  대기표를 줘서 웨이팅하기에 무리가 없어요!! 시간 맞춰가니까 금방 살수있고 좋아요~...    0   1  0    0   0\n",
      "816  대기표를 줘서 웨이팅하기에 무리가 시간 맞춰가니까 금방 살수있고 맛별로 사서 먹어봤...    0   1  0    0   0\n",
      "817  대기표를 줘서 웨이팅하기에 무리가 없어요!! 시간 맞춰가니까 금방 살수있고 좋아요~...    0   1  0    0   0\n",
      "818  대기표를 줘서 웨이팅하기에 무리가 없어요!! 시간 맞춰가니까 금방 살수있고 좋아요~...    0   1  0    0   0\n",
      "\n",
      "[819 rows x 6 columns]>\n"
     ]
    }
   ],
   "source": [
    "print(df.tail)"
   ]
  },
  {
   "cell_type": "code",
   "execution_count": null,
   "metadata": {},
   "outputs": [],
   "source": []
  },
  {
   "cell_type": "code",
   "execution_count": null,
   "metadata": {},
   "outputs": [],
   "source": []
  },
  {
   "cell_type": "code",
   "execution_count": null,
   "metadata": {},
   "outputs": [],
   "source": []
  },
  {
   "cell_type": "code",
   "execution_count": null,
   "metadata": {},
   "outputs": [],
   "source": []
  },
  {
   "cell_type": "code",
   "execution_count": null,
   "metadata": {},
   "outputs": [],
   "source": []
  }
 ],
 "metadata": {
  "kernelspec": {
   "display_name": "Python 3.7.9 64-bit (microsoft store)",
   "language": "python",
   "name": "python3"
  },
  "language_info": {
   "codemirror_mode": {
    "name": "ipython",
    "version": 3
   },
   "file_extension": ".py",
   "mimetype": "text/x-python",
   "name": "python",
   "nbconvert_exporter": "python",
   "pygments_lexer": "ipython3",
   "version": "3.7.9"
  },
  "orig_nbformat": 4,
  "vscode": {
   "interpreter": {
    "hash": "ba902cdd07d50c871105ce56545d419b4d779dfca31abd400d3cc968703e0b8c"
   }
  }
 },
 "nbformat": 4,
 "nbformat_minor": 2
}
